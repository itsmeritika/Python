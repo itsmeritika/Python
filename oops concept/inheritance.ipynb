{
 "cells": [
  {
   "cell_type": "markdown",
   "metadata": {},
   "source": [
    "when one class(child/derived) derives the properties and methods of another class(parent/base)"
   ]
  },
  {
   "cell_type": "code",
   "execution_count": null,
   "metadata": {},
   "outputs": [
    {
     "name": "stdout",
     "output_type": "stream",
     "text": [
      "lamborghini\n",
      "Car started...\n",
      "None\n"
     ]
    }
   ],
   "source": [
    "# single inheritence\n",
    "class Car:\n",
    "    @staticmethod\n",
    "    def start():\n",
    "        print(\"Car started...\")\n",
    "    @staticmethod\n",
    "    def stop():\n",
    "        print(\"Car stopped\")\n",
    "class ToyotaCar(Car):\n",
    "    def __init__(self, name):\n",
    "        self.name = name\n",
    "car1 = ToyotaCar(\"fortuner\")\n",
    "car2 = ToyotaCar(\"lamborghini\")\n",
    "print(car2.name)\n",
    "print(car1.start())"
   ]
  },
  {
   "cell_type": "code",
   "execution_count": null,
   "metadata": {},
   "outputs": [
    {
     "name": "stdout",
     "output_type": "stream",
     "text": [
      "Car started...\n",
      "None\n"
     ]
    }
   ],
   "source": [
    "#multi-level inhertence\n",
    "class Car:\n",
    "    @staticmethod\n",
    "    def start():\n",
    "        print(\"Car started...\")\n",
    "    @staticmethod\n",
    "    def stop():\n",
    "        print(\"Car stopped\")\n",
    "class ToyotaCar(Car):\n",
    "    def __init__(self, brand):\n",
    "        self.brand = brand\n",
    "class Fortuner(ToyotaCar):\n",
    "    def __init__(self, type):\n",
    "        self.type = type\n",
    "        \n",
    "car1 = Fortuner(\"petrol\")\n",
    "\n",
    "\n",
    "print(car1.start())"
   ]
  },
  {
   "cell_type": "code",
   "execution_count": 4,
   "metadata": {},
   "outputs": [
    {
     "name": "stdout",
     "output_type": "stream",
     "text": [
      "welcome to class A\n",
      "welcome to class B\n",
      "welcome to class C\n"
     ]
    }
   ],
   "source": [
    "##multiple inheritence\n",
    "class A:\n",
    "    varA = \"welcome to class A\"\n",
    "class B:\n",
    "    varB = \"welcome to class B\"\n",
    "class C(A,B):\n",
    "    varC= \"welcome to class C\"\n",
    "c1=C()\n",
    "print(c1.varA)\n",
    "print(c1.varB)\n",
    "print(c1.varC)"
   ]
  },
  {
   "cell_type": "code",
   "execution_count": 8,
   "metadata": {},
   "outputs": [
    {
     "name": "stdout",
     "output_type": "stream",
     "text": [
      "petrol\n"
     ]
    }
   ],
   "source": [
    "## super method\n",
    "class Car:\n",
    "    def __init__(self, type):\n",
    "        self.type = type\n",
    "    @staticmethod\n",
    "    def start():\n",
    "        print(\"Car started...\")\n",
    "    @staticmethod\n",
    "    def stop():\n",
    "        print(\"Car stopped\")\n",
    "class ToyotaCar(Car):\n",
    "    def __init__(self, name, type):\n",
    "        self.name = name\n",
    "        super().__init__(type)\n",
    "car1 = ToyotaCar(\"PRIUS\",\"petrol\")\n",
    "print(car1.type)\n",
    "\n"
   ]
  }
 ],
 "metadata": {
  "kernelspec": {
   "display_name": "Python 3",
   "language": "python",
   "name": "python3"
  },
  "language_info": {
   "codemirror_mode": {
    "name": "ipython",
    "version": 3
   },
   "file_extension": ".py",
   "mimetype": "text/x-python",
   "name": "python",
   "nbconvert_exporter": "python",
   "pygments_lexer": "ipython3",
   "version": "3.13.1"
  }
 },
 "nbformat": 4,
 "nbformat_minor": 2
}
