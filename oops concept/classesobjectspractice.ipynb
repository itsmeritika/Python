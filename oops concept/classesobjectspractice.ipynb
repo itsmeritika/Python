{
 "cells": [
  {
   "cell_type": "code",
   "execution_count": 1,
   "metadata": {},
   "outputs": [
    {
     "name": "stdout",
     "output_type": "stream",
     "text": [
      "Tata\n",
      "1212\n",
      "2025\n"
     ]
    }
   ],
   "source": [
    "#Assignment 1: Basic Class and Object Creation\n",
    "\"\"\"Create a class named `Car` with attributes `make`, `model`, and `year`.\n",
    " Create an object of the class and print its attributes.\"\"\"\n",
    "class Car:\n",
    "    def __init__(self, make, model, year):\n",
    "        self.make = make\n",
    "        self.model = model\n",
    "        self.year = year\n",
    "car1 = Car(\"Tata\", 1212, 2025)\n",
    "print(car1.make)\n",
    "print(car1.model)\n",
    "print(car1.year)\n",
    "\n",
    "        \n",
    "    \n"
   ]
  },
  {
   "cell_type": "code",
   "execution_count": 3,
   "metadata": {},
   "outputs": [
    {
     "name": "stdout",
     "output_type": "stream",
     "text": [
      "Car  not strated......\n",
      "Car strated......\n"
     ]
    }
   ],
   "source": [
    "# Assignment 2: Methods in Class\n",
    "\"\"\"Add a method named `start_engine` to the `Car` class that prints a message when the engine starts.\n",
    " Create an object of the class  and call the method.\"\"\"\n",
    "class Car:\n",
    "    def __init__(self):\n",
    "        self.accelerator = False\n",
    "        self.brake = False\n",
    "        self.clutch = False\n",
    "        print(\"Car  not strated......\")\n",
    "    def start(self):\n",
    "        self.clutch = True\n",
    "        self.accelerator = True\n",
    "        print(\"Car strated......\")\n",
    "    \n",
    "car1 = Car()\n",
    "car1.start()\n",
    "\n",
    "\n",
    "        "
   ]
  },
  {
   "cell_type": "code",
   "execution_count": 4,
   "metadata": {},
   "outputs": [
    {
     "name": "stdout",
     "output_type": "stream",
     "text": [
      "Ritika\n",
      "20\n"
     ]
    }
   ],
   "source": [
    "#### Assignment 3: Class with Constructor\n",
    "\"\"\"Create a class named `Student` with attributes `name` and `age`.\n",
    " Use a constructor to initialize these attributes.\n",
    " Create an object of the class and print its attributes.\"\"\"\n",
    "class Student:\n",
    "    def __init__(self, name, age):\n",
    "        self.name = name\n",
    "        self.age = age\n",
    "\n",
    "# Creating an object of the Student class\n",
    "student1 = Student(\"Ritika\", 20)\n",
    "\n",
    "# Printing the attributes of the student object\n",
    "print(student1.name)\n",
    "print(student1.age)\n"
   ]
  },
  {
   "cell_type": "code",
   "execution_count": 9,
   "metadata": {},
   "outputs": [
    {
     "name": "stdout",
     "output_type": "stream",
     "text": [
      "1000 is debited\n",
      "the remaining balance is 9000\n",
      "2000 is credited\n",
      "the remaining balance is 11000\n"
     ]
    }
   ],
   "source": [
    "### Assignment 4: Class with Private Attributes\n",
    "\"\"\"Create a class named `BankAccount` with private attributes `account_number` and `balance`.\n",
    " Add methods to deposit and withdraw money, and to check the balance. \n",
    "Create an object of the class and perform some operations.\"\"\"\n",
    "class BankAccount:\n",
    "    def __init__(self, account_number, balance):\n",
    "        self.__account_number = account_number\n",
    "        self.__balance = balance\n",
    "    def debit(self,amount):\n",
    "        self.__balance -= amount\n",
    "        print(f\"{ amount} is debited\")\n",
    "        print(f\"the remaining balance is {self.__balance}\")\n",
    "    def credit(self,amount):\n",
    "        self.__balance += amount\n",
    "        print(f\"{ amount} is credited\")\n",
    "        print(f\"the remaining balance is {self.__balance}\")\n",
    "acc1 = BankAccount(1212, 10000)\n",
    "\n",
    "acc1.debit(1000)\n",
    "acc1.credit(2000)\n",
    "\n",
    "    "
   ]
  },
  {
   "cell_type": "code",
   "execution_count": null,
   "metadata": {},
   "outputs": [],
   "source": []
  },
  {
   "cell_type": "code",
   "execution_count": null,
   "metadata": {},
   "outputs": [],
   "source": []
  },
  {
   "cell_type": "code",
   "execution_count": null,
   "metadata": {},
   "outputs": [],
   "source": []
  },
  {
   "cell_type": "code",
   "execution_count": null,
   "metadata": {},
   "outputs": [],
   "source": []
  },
  {
   "cell_type": "code",
   "execution_count": null,
   "metadata": {},
   "outputs": [],
   "source": []
  }
 ],
 "metadata": {
  "kernelspec": {
   "display_name": "Python 3",
   "language": "python",
   "name": "python3"
  },
  "language_info": {
   "codemirror_mode": {
    "name": "ipython",
    "version": 3
   },
   "file_extension": ".py",
   "mimetype": "text/x-python",
   "name": "python",
   "nbconvert_exporter": "python",
   "pygments_lexer": "ipython3",
   "version": "3.13.1"
  }
 },
 "nbformat": 4,
 "nbformat_minor": 2
}
