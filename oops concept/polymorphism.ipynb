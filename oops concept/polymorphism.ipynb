{
 "cells": [
  {
   "cell_type": "markdown",
   "metadata": {},
   "source": [
    "Polymorphism allows object of different classes \n",
    "to be treated as object of a common superclass it provides a way to perform a single action in different forms\n"
   ]
  },
  {
   "cell_type": "code",
   "execution_count": 2,
   "metadata": {},
   "outputs": [
    {
     "name": "stdout",
     "output_type": "stream",
     "text": [
      "Woof!\n",
      "meow\n",
      "Woof!\n"
     ]
    }
   ],
   "source": [
    "## Method overriding\n",
    "'''Method overriding allows a child class to provide \n",
    "a specific implementation of a method that is already\n",
    "defined in parent class'''\"abstraction and encalsulation.ipynb\"\n",
    "#base class\n",
    "class Animal:\n",
    "    def speak(self):\n",
    "        return \"Sound of an animal\"\n",
    "## derived class\n",
    "class Dog(Animal):\n",
    "    def speak(self):\n",
    "        return \"Woof!\"\n",
    "# derived class\n",
    "class Cat(Animal):\n",
    "    def speak(self):\n",
    "        return \"meow\"\n",
    "#Function that demonstrate polymorphism\n",
    "def animal_speak(animal):\n",
    "    print(animal.speak())\n",
    "dog = Dog()\n",
    "cat =Cat()\n",
    "print(dog.speak())\n",
    "print(cat.speak())\n",
    "animal_speak(dog)\n",
    "\n"
   ]
  },
  {
   "cell_type": "code",
   "execution_count": 5,
   "metadata": {},
   "outputs": [
    {
     "name": "stdout",
     "output_type": "stream",
     "text": [
      "the area is 144\n",
      "the area is 28.26\n"
     ]
    }
   ],
   "source": [
    "'''polymorphism with function and methods'''\n",
    "#base class\n",
    "class Shape:\n",
    "    def area(self):\n",
    "        return \"The area of figure\"\n",
    "# derived class 1\n",
    "class Rectangle(Shape):\n",
    "    def __init__(self, width,height):\n",
    "        self.width = width\n",
    "        self.height =  height\n",
    "    def area(self):\n",
    "        return self.width * self.height\n",
    "# derived class 2\n",
    "class Circle(Shape):\n",
    "    def __init__(self,radius):\n",
    "        self.radius = radius\n",
    "    def area(self):\n",
    "        return 3.14 * self.radius ** 2\n",
    "## function that demonstrate polymorphism\n",
    "def print_area(shape):\n",
    "    print(f\"the area is {shape.area()}\")\n",
    "\n",
    "rectangle = Rectangle(12, 12)\n",
    "circle = Circle(3)\n",
    "print_area(rectangle)\n",
    "print_area(circle)\n",
    "\n",
    "        "
   ]
  },
  {
   "cell_type": "markdown",
   "metadata": {},
   "source": [
    "Polymorphism with Abstract Base classes\n",
    "Abstract Base classes are used  to define common methods for a group of related objects"
   ]
  },
  {
   "cell_type": "code",
   "execution_count": 10,
   "metadata": {},
   "outputs": [
    {
     "ename": "TypeError",
     "evalue": "Can't instantiate abstract class Motorcycle without an implementation for abstract method 'start_engine'",
     "output_type": "error",
     "traceback": [
      "\u001b[1;31m---------------------------------------------------------------------------\u001b[0m",
      "\u001b[1;31mTypeError\u001b[0m                                 Traceback (most recent call last)",
      "Cell \u001b[1;32mIn[10], line 19\u001b[0m\n\u001b[0;32m     17\u001b[0m \u001b[38;5;66;03m## CREATE OBJECTS OF CAR AND MOTOR CYCLE\u001b[39;00m\n\u001b[0;32m     18\u001b[0m car \u001b[38;5;241m=\u001b[39m Car()\n\u001b[1;32m---> 19\u001b[0m motorcycle \u001b[38;5;241m=\u001b[39m \u001b[43mMotorcycle\u001b[49m\u001b[43m(\u001b[49m\u001b[43m)\u001b[49m\n\u001b[0;32m     20\u001b[0m start_vehicle(car)\n",
      "\u001b[1;31mTypeError\u001b[0m: Can't instantiate abstract class Motorcycle without an implementation for abstract method 'start_engine'"
     ]
    }
   ],
   "source": [
    "from abc import ABC, abstractmethod\n",
    "## define an abstract class\n",
    "class Vehicle(ABC):\n",
    "    @abstractmethod\n",
    "    def start_engine(self):\n",
    "        pass\n",
    "#derived class 1\n",
    "class Car(Vehicle):\n",
    "    def start_engine(self):\n",
    "        return \"Car engine started\"\n",
    "# derived class 2\n",
    "class Motorcycle(Vehicle):\n",
    "    def start_vehicle(self):\n",
    "        return \"MOTORCYCLE ENGINE STARTED\"\n",
    "def start_vehicle(vehicle):\n",
    "    print(vehicle.start_engine())\n",
    "## CREATE OBJECTS OF CAR AND MOTOR CYCLE\n",
    "car = Car()\n",
    "motorcycle = Motorcycle()\n",
    "start_vehicle(car)\n",
    "       "
   ]
  },
  {
   "cell_type": "code",
   "execution_count": null,
   "metadata": {},
   "outputs": [],
   "source": []
  },
  {
   "cell_type": "code",
   "execution_count": null,
   "metadata": {},
   "outputs": [],
   "source": []
  }
 ],
 "metadata": {
  "kernelspec": {
   "display_name": "Python 3",
   "language": "python",
   "name": "python3"
  },
  "language_info": {
   "codemirror_mode": {
    "name": "ipython",
    "version": 3
   },
   "file_extension": ".py",
   "mimetype": "text/x-python",
   "name": "python",
   "nbconvert_exporter": "python",
   "pygments_lexer": "ipython3",
   "version": "3.12.4"
  }
 },
 "nbformat": 4,
 "nbformat_minor": 2
}
