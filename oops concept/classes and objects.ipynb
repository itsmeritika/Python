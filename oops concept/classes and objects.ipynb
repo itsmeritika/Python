{
 "cells": [
  {
   "cell_type": "code",
   "execution_count": 14,
   "metadata": {},
   "outputs": [
    {
     "name": "stdout",
     "output_type": "stream",
     "text": [
      "Creating new student in databse\n",
      "don\n",
      "98\n",
      "Creating new student in databse\n",
      "riti\n",
      "99\n"
     ]
    }
   ],
   "source": [
    "class student:\n",
    "    name = \"Ritika Dahal\"\n",
    "    def __init__(self,name,marks):\n",
    "        self.name=name\n",
    "        self.marks=marks\n",
    "        print(\"Creating new student in databse\")\n",
    "   \n",
    "s1= student(\"don\",98)\n",
    "print(s1.name)\n",
    "print(s1.marks)\n",
    "s2=student(\"riti\",99)\n",
    "print(s2.name)\n",
    "print(s2.marks)\n",
    "\n",
    "\n",
    "    "
   ]
  },
  {
   "cell_type": "code",
   "execution_count": 4,
   "metadata": {},
   "outputs": [
    {
     "name": "stdout",
     "output_type": "stream",
     "text": [
      "blue\n",
      "bmw\n"
     ]
    }
   ],
   "source": [
    "class Car:\n",
    "    color = \"blue\"\n",
    "    brand=\"bmw\"\n",
    "car1=Car()\n",
    "print(car1.color)\n",
    "print(car1.brand)"
   ]
  },
  {
   "cell_type": "code",
   "execution_count": 20,
   "metadata": {},
   "outputs": [
    {
     "name": "stdout",
     "output_type": "stream",
     "text": [
      "hi ritika dahal your avg is 84.66666666666667\n"
     ]
    }
   ],
   "source": [
    "'''Create a student  class that takes name\n",
    "and marks of 3 subjects as arguments in \n",
    "constructor then create a method to print the\n",
    "average '''\n",
    "\n",
    "class Student:\n",
    "    def __init__(self,name,marks):\n",
    "        self.name = name\n",
    "        self.marks =  marks\n",
    "    def get_average(self):\n",
    "        sum=0\n",
    "        for val in self.marks:\n",
    "            sum +=val\n",
    "            average= sum/3\n",
    "        print(\"hi\", self.name, \"your avg is\", average)\n",
    "\n",
    "s1 = Student(\"ritika dahal\", [69,87,98])\n",
    "s1.get_average()\n",
    "\n",
    "\n",
    "        \n"
   ]
  }
 ],
 "metadata": {
  "kernelspec": {
   "display_name": "Python 3",
   "language": "python",
   "name": "python3"
  },
  "language_info": {
   "codemirror_mode": {
    "name": "ipython",
    "version": 3
   },
   "file_extension": ".py",
   "mimetype": "text/x-python",
   "name": "python",
   "nbconvert_exporter": "python",
   "pygments_lexer": "ipython3",
   "version": "3.13.1"
  }
 },
 "nbformat": 4,
 "nbformat_minor": 2
}
