{
 "cells": [
  {
   "cell_type": "markdown",
   "metadata": {},
   "source": [
    "Operator Overloading allows you to define the behaviour of operators(+, -, *, etc.) for custom objects. You achieve this by overriding specific magic methods in your class."
   ]
  },
  {
   "cell_type": "code",
   "execution_count": null,
   "metadata": {},
   "outputs": [],
   "source": [
    "## Common opearator overloading magic methods\n",
    "\"\"\"\"\n",
    "__add__(self, other): Adds two objects using + operator\n",
    "__sub__(self, other): Subtracts two objects using - operator\n",
    "__mul__(self, other): Multiplies two objects using * operator\n",
    "__truediv__(self, other): Divide two objects usinf the / operator\n",
    "__eq__(self, other): Checks if two objects are equal using  the == operator\n",
    "__lt__(self, other): Checks if one objects is less than another using the < operator\n",
    "\"\"\""
   ]
  },
  {
   "cell_type": "code",
   "execution_count": 3,
   "metadata": {},
   "outputs": [
    {
     "data": {
      "text/plain": [
       "True"
      ]
     },
     "execution_count": 3,
     "metadata": {},
     "output_type": "execute_result"
    }
   ],
   "source": [
    "12 > 6\n"
   ]
  },
  {
   "cell_type": "code",
   "execution_count": 9,
   "metadata": {},
   "outputs": [
    {
     "name": "stdout",
     "output_type": "stream",
     "text": [
      "Vector(8, 10)\n",
      "Vector(-4, -4)\n",
      "Vector(12, 21)\n"
     ]
    }
   ],
   "source": [
    "## mathematicsl operation for vector\n",
    "class Vector:\n",
    "    def __init__(self,x,y):\n",
    "        self.x= x\n",
    "        self.y = y\n",
    "    def __add__(self, other):\n",
    "        return Vector(self.x+other.x, self.y+other.y)\n",
    "    def __sub__(self, other):\n",
    "        return Vector(self.x-other.x, self.y-other.y)\n",
    "    def __mul__(self, other):\n",
    "        return Vector(self.x*other.x, self.y*other.y)\n",
    "    def __repr__(self):\n",
    "        return f\"Vector({self.x}, {self.y})\"\n",
    "## create objects of the vector class\n",
    "v1 = Vector(2,3)\n",
    "v2 = Vector(6,7)\n",
    "print(v1+v2)\n",
    "print(v1 - v2) \n",
    "print(v1 * v2)"
   ]
  },
  {
   "cell_type": "code",
   "execution_count": 10,
   "metadata": {},
   "outputs": [
    {
     "name": "stdout",
     "output_type": "stream",
     "text": [
      "5 + 9i\n",
      "3 + 1i\n",
      "-16 + 24i\n",
      "False\n"
     ]
    }
   ],
   "source": [
    "## overloading operators for complex nmbers\n",
    "class ComplexNumber:\n",
    "    def __init__(self, real, imag):\n",
    "        self.real = real\n",
    "        self.imag = imag\n",
    "    def __add__(self, other):\n",
    "        return ComplexNumber(self.real + other.real, self.imag + other.imag)\n",
    "    def __sub__(self, other):\n",
    "        return ComplexNumber(self.real - other.real, self.imag - other.imag)\n",
    "    def __mul__(self, other):\n",
    "        real_part = self.real * other.real - self.imag * other.imag\n",
    "        imag_part = self.real * other.real + self.imag * other.imag\n",
    "        return ComplexNumber(real_part, imag_part)\n",
    "    def __eq__(self, other):\n",
    "        return self.real == other.real and self.imag == other.imag\n",
    "    def __repr__(self):\n",
    "        return f\"{self.real} + {self.imag}i\"\n",
    "    ## create objects\n",
    "c1 = ComplexNumber(4,5)\n",
    "c2 = ComplexNumber(1,4)\n",
    "##  use overloaded operators\n",
    "print(c1+c2)\n",
    "print(c1-c2)\n",
    "print(c1*c2)\n",
    "print(c1==c2)\n",
    "\n",
    "\n",
    "    "
   ]
  }
 ],
 "metadata": {
  "kernelspec": {
   "display_name": "Python 3",
   "language": "python",
   "name": "python3"
  },
  "language_info": {
   "codemirror_mode": {
    "name": "ipython",
    "version": 3
   },
   "file_extension": ".py",
   "mimetype": "text/x-python",
   "name": "python",
   "nbconvert_exporter": "python",
   "pygments_lexer": "ipython3",
   "version": "3.12.4"
  }
 },
 "nbformat": 4,
 "nbformat_minor": 2
}
