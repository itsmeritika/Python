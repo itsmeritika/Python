{
 "cells": [
  {
   "cell_type": "code",
   "execution_count": 15,
   "metadata": {},
   "outputs": [
    {
     "name": "stdout",
     "output_type": "stream",
     "text": [
      "buddy says bhau bhau\n"
     ]
    }
   ],
   "source": [
    "## Define a class with instance method\n",
    "class Dog:\n",
    "    def __init__(self, name, age):\n",
    "        self.name=name\n",
    "        self.age= age\n",
    "    def bark(self):\n",
    "        print(f\"{self.name} says bhau bhau\")\n",
    "dog1 = Dog(\"buddy\", 3)\n",
    "dog1.bark()\n"
   ]
  },
  {
   "cell_type": "code",
   "execution_count": 1,
   "metadata": {},
   "outputs": [
    {
     "name": "stdout",
     "output_type": "stream",
     "text": [
      "10000\n",
      "30000 is deposited.New balance is 40000\n",
      "2000 is withdrawn. New balance is 38000\n"
     ]
    },
    {
     "data": {
      "text/plain": [
       "38000"
      ]
     },
     "execution_count": 1,
     "metadata": {},
     "output_type": "execute_result"
    }
   ],
   "source": [
    "## Modeling a Bank account\n",
    "## define a class for bank account\n",
    "class BankAccount:\n",
    "    def __init__(self, owner,balance=0):\n",
    "        self.owner = owner\n",
    "        self.balance = balance\n",
    "    def deposit(self,amount):\n",
    "        self.balance += amount\n",
    "        print(f\"{amount} is deposited.New balance is {self.balance}\")\n",
    "    def withdraw(self,amount):\n",
    "        if amount > self.balance:\n",
    "            print(\"insufficient fund\")\n",
    "        else:\n",
    "            self.balance-= amount\n",
    "            print(f\"{amount} is withdrawn. New balance is {self.balance}\")\n",
    "    def get_balance(self):\n",
    "        return self.balance\n",
    " ##create an account\n",
    "account = BankAccount(\"ritika\", 10000)\n",
    "print(account.balance)\n",
    "# call instance methods\n",
    "account.deposit(30000)\n",
    "account.withdraw(2000)\n",
    "account.get_balance()\n",
    "\n",
    "\n"
   ]
  },
  {
   "cell_type": "code",
   "execution_count": null,
   "metadata": {},
   "outputs": [],
   "source": []
  },
  {
   "cell_type": "code",
   "execution_count": null,
   "metadata": {},
   "outputs": [],
   "source": []
  },
  {
   "cell_type": "code",
   "execution_count": null,
   "metadata": {},
   "outputs": [],
   "source": []
  },
  {
   "cell_type": "code",
   "execution_count": null,
   "metadata": {},
   "outputs": [],
   "source": []
  },
  {
   "cell_type": "code",
   "execution_count": 1,
   "metadata": {},
   "outputs": [
    {
     "name": "stdout",
     "output_type": "stream",
     "text": [
      "ritika\n"
     ]
    },
    {
     "ename": "AttributeError",
     "evalue": "'Student' object has no attribute 'name'",
     "output_type": "error",
     "traceback": [
      "\u001b[1;31m---------------------------------------------------------------------------\u001b[0m",
      "\u001b[1;31mAttributeError\u001b[0m                            Traceback (most recent call last)",
      "Cell \u001b[1;32mIn[1], line 8\u001b[0m\n\u001b[0;32m      6\u001b[0m \u001b[38;5;28mprint\u001b[39m(s1\u001b[38;5;241m.\u001b[39mname)\n\u001b[0;32m      7\u001b[0m \u001b[38;5;28;01mdel\u001b[39;00m s1\u001b[38;5;241m.\u001b[39mname\n\u001b[1;32m----> 8\u001b[0m \u001b[38;5;28mprint\u001b[39m(\u001b[43ms1\u001b[49m\u001b[38;5;241;43m.\u001b[39;49m\u001b[43mname\u001b[49m)\n",
      "\u001b[1;31mAttributeError\u001b[0m: 'Student' object has no attribute 'name'"
     ]
    }
   ],
   "source": [
    "#using del keyword\n",
    "class Student:\n",
    "    def __init__(self, name):\n",
    "        self.name=name\n",
    "s1=Student(\"ritika\")\n",
    "print(s1.name)\n",
    "del s1.name\n",
    "print(s1.name)\n"
   ]
  },
  {
   "cell_type": "code",
   "execution_count": 9,
   "metadata": {},
   "outputs": [
    {
     "name": "stdout",
     "output_type": "stream",
     "text": [
      "1213\n"
     ]
    },
    {
     "ename": "AttributeError",
     "evalue": "'Account' object has no attribute '__acc_pass'",
     "output_type": "error",
     "traceback": [
      "\u001b[1;31m---------------------------------------------------------------------------\u001b[0m",
      "\u001b[1;31mAttributeError\u001b[0m                            Traceback (most recent call last)",
      "Cell \u001b[1;32mIn[9], line 9\u001b[0m\n\u001b[0;32m      7\u001b[0m acc1 \u001b[38;5;241m=\u001b[39m Account(\u001b[38;5;124m\"\u001b[39m\u001b[38;5;124m1213\u001b[39m\u001b[38;5;124m\"\u001b[39m,\u001b[38;5;124m\"\u001b[39m\u001b[38;5;124mrITI@\u001b[39m\u001b[38;5;124m\"\u001b[39m)\n\u001b[0;32m      8\u001b[0m \u001b[38;5;28mprint\u001b[39m(acc1\u001b[38;5;241m.\u001b[39macc_no)\n\u001b[1;32m----> 9\u001b[0m \u001b[38;5;28mprint\u001b[39m(\u001b[43macc1\u001b[49m\u001b[38;5;241;43m.\u001b[39;49m\u001b[43m__acc_pass\u001b[49m)\n\u001b[0;32m     10\u001b[0m \u001b[38;5;28mprint\u001b[39m(acc1\u001b[38;5;241m.\u001b[39mreset_pass())\n",
      "\u001b[1;31mAttributeError\u001b[0m: 'Account' object has no attribute '__acc_pass'"
     ]
    }
   ],
   "source": [
    "class Account:\n",
    "    def __init__(self, acc_no, acc_pass):\n",
    "        self.acc_no = acc_no\n",
    "        self.__acc_pass = acc_pass\n",
    "    def reset_pass(self):\n",
    "        print(self.__acc_pass)\n",
    "acc1 = Account(\"1213\",\"rITI@\")\n",
    "print(acc1.acc_no)\n",
    "print(acc1.__acc_pass)\n",
    "print(acc1.reset_pass())"
   ]
  },
  {
   "cell_type": "code",
   "execution_count": 13,
   "metadata": {},
   "outputs": [
    {
     "name": "stdout",
     "output_type": "stream",
     "text": [
      "hello \n",
      "None\n"
     ]
    }
   ],
   "source": [
    "class Person:\n",
    "    __name=\"anonymou0s\"\n",
    "    def __hello(self):\n",
    "        print(\"hello \")\n",
    "    def welcome(self):\n",
    "        self.__hello()\n",
    "p1=Person()\n",
    "print(p1.welcome())\n"
   ]
  },
  {
   "cell_type": "code",
   "execution_count": null,
   "metadata": {},
   "outputs": [],
   "source": []
  },
  {
   "cell_type": "code",
   "execution_count": null,
   "metadata": {},
   "outputs": [],
   "source": []
  },
  {
   "cell_type": "code",
   "execution_count": null,
   "metadata": {},
   "outputs": [],
   "source": []
  }
 ],
 "metadata": {
  "kernelspec": {
   "display_name": "Python 3",
   "language": "python",
   "name": "python3"
  },
  "language_info": {
   "codemirror_mode": {
    "name": "ipython",
    "version": 3
   },
   "file_extension": ".py",
   "mimetype": "text/x-python",
   "name": "python",
   "nbconvert_exporter": "python",
   "pygments_lexer": "ipython3",
   "version": "3.13.1"
  }
 },
 "nbformat": 4,
 "nbformat_minor": 2
}
