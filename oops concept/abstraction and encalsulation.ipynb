{
 "cells": [
  {
   "cell_type": "markdown",
   "metadata": {},
   "source": [
    "Hiding the implementation details of a class and only showing the sessential features to the user"
   ]
  },
  {
   "cell_type": "code",
   "execution_count": 5,
   "metadata": {},
   "outputs": [
    {
     "name": "stdout",
     "output_type": "stream",
     "text": [
      "Car  not strated......\n",
      "Car strated......\n"
     ]
    }
   ],
   "source": [
    "class Car:\n",
    "    def __init__(self):\n",
    "        self.accelerator = False\n",
    "        self.brake = False\n",
    "        self.clutch = False\n",
    "        print(\"Car  not strated......\")\n",
    "    def start(self):\n",
    "        self.clutch = True\n",
    "        self.accelerator = True\n",
    "        print(\"Car strated......\")\n",
    "    \n",
    "car1 = Car()\n",
    "car1.start()\n",
    "\n"
   ]
  },
  {
   "cell_type": "code",
   "execution_count": 7,
   "metadata": {},
   "outputs": [
    {
     "name": "stdout",
     "output_type": "stream",
     "text": [
      "10000\n",
      "1212\n",
      "Rs 1000 was debited\n",
      "Total balance =  9000\n",
      "Rs 3000 was credited\n",
      "Total balance =  12000\n"
     ]
    }
   ],
   "source": [
    "\"\"\"Create Account class with 2 attributes\n",
    "-balance and account no.Create \n",
    "methods for debit, credit and \n",
    "printing the balance\"\"\"\n",
    "class Account:\n",
    "    def __init__(self,balance,account_no):\n",
    "        self.balance =  balance\n",
    "        self.account_no = account_no\n",
    "    ## debit method\n",
    "    def debit(self,amount):\n",
    "        self.balance -=  amount\n",
    "        print(\"Rs\", amount , \"was debited\")\n",
    "        print(\"Total balance = \", self.get_balance())\n",
    "    def credit(self , amount):\n",
    "        self.balance += amount\n",
    "        print(\"Rs\", amount , \"was credited\")\n",
    "        print(\"Total balance = \", self.get_balance())\n",
    "    def get_balance(self):\n",
    "        return self.balance\n",
    "\n",
    "Acc1 = Account(10000,1212)\n",
    "print(Acc1.balance)\n",
    "print(Acc1.account_no)\n",
    "Acc1.debit(1000)\n",
    "Acc1.credit(3000)\n"
   ]
  }
 ],
 "metadata": {
  "kernelspec": {
   "display_name": "Python 3",
   "language": "python",
   "name": "python3"
  },
  "language_info": {
   "codemirror_mode": {
    "name": "ipython",
    "version": 3
   },
   "file_extension": ".py",
   "mimetype": "text/x-python",
   "name": "python",
   "nbconvert_exporter": "python",
   "pygments_lexer": "ipython3",
   "version": "3.13.1"
  }
 },
 "nbformat": 4,
 "nbformat_minor": 2
}
