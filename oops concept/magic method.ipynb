{
 "cells": [
  {
   "cell_type": "markdown",
   "metadata": {},
   "source": [
    "Magic method in python also known as dunder methods(double underscore methods) are special methods that start and end with double underscore .these methods enable to define the behaviour of objects for built in operations such as arithmetic operations, somparision and more.\n",
    "example:\n",
    "1. __init__\n",
    "2. __str__\n",
    "3. __len__\n",
    "4. getitem\n",
    "5. setitem\n"
   ]
  },
  {
   "cell_type": "code",
   "execution_count": 1,
   "metadata": {},
   "outputs": [
    {
     "data": {
      "text/plain": [
       "['__class__',\n",
       " '__delattr__',\n",
       " '__dict__',\n",
       " '__dir__',\n",
       " '__doc__',\n",
       " '__eq__',\n",
       " '__format__',\n",
       " '__ge__',\n",
       " '__getattribute__',\n",
       " '__getstate__',\n",
       " '__gt__',\n",
       " '__hash__',\n",
       " '__init__',\n",
       " '__init_subclass__',\n",
       " '__le__',\n",
       " '__lt__',\n",
       " '__module__',\n",
       " '__ne__',\n",
       " '__new__',\n",
       " '__reduce__',\n",
       " '__reduce_ex__',\n",
       " '__repr__',\n",
       " '__setattr__',\n",
       " '__sizeof__',\n",
       " '__str__',\n",
       " '__subclasshook__',\n",
       " '__weakref__']"
      ]
     },
     "execution_count": 1,
     "metadata": {},
     "output_type": "execute_result"
    }
   ],
   "source": [
    "class Person:\n",
    "    pass\n",
    "person = Person()\n",
    "dir(person)"
   ]
  },
  {
   "cell_type": "code",
   "execution_count": 2,
   "metadata": {},
   "outputs": [
    {
     "name": "stdout",
     "output_type": "stream",
     "text": [
      "<__main__.Person object at 0x000001890C5EC110>\n"
     ]
    }
   ],
   "source": [
    "print(person)"
   ]
  },
  {
   "cell_type": "code",
   "execution_count": 7,
   "metadata": {},
   "outputs": [
    {
     "name": "stdout",
     "output_type": "stream",
     "text": [
      "Ritika, 20 years old\n",
      "person(name = Ritika, age = 20)\n"
     ]
    }
   ],
   "source": [
    "## Basic magic methods\n",
    "class Person:\n",
    "    def __init__(self, name, age):\n",
    "        self.name= name\n",
    "        self.age = age\n",
    "    def __str__(self):\n",
    "        return f\"{self.name}, {self.age} years old\"\n",
    "    def __repr__(self):\n",
    "        return f\"person(name = {self.name}, age = {self.age})\"\n",
    "person = Person(\"Ritika\", 20)\n",
    "print(person)\n",
    "print(repr(person))\n",
    "\n"
   ]
  }
 ],
 "metadata": {
  "kernelspec": {
   "display_name": "Python 3",
   "language": "python",
   "name": "python3"
  },
  "language_info": {
   "codemirror_mode": {
    "name": "ipython",
    "version": 3
   },
   "file_extension": ".py",
   "mimetype": "text/x-python",
   "name": "python",
   "nbconvert_exporter": "python",
   "pygments_lexer": "ipython3",
   "version": "3.12.4"
  }
 },
 "nbformat": 4,
 "nbformat_minor": 2
}
