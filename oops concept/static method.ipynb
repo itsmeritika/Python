{
 "cells": [
  {
   "cell_type": "code",
   "execution_count": 2,
   "metadata": {},
   "outputs": [
    {
     "name": "stdout",
     "output_type": "stream",
     "text": [
      "hi ritika dahal your avg is 84.66666666666667\n",
      "Hello beautiful people\n"
     ]
    }
   ],
   "source": [
    "class Student:\n",
    "    def __init__(self,name,marks):\n",
    "        self.name = name\n",
    "        self.marks =  marks\n",
    "    @staticmethod\n",
    "    def hello():\n",
    "        print(\"Hello beautiful people\")\n",
    "    def get_average(self):\n",
    "        sum=0\n",
    "        for val in self.marks:\n",
    "            sum +=val\n",
    "            average= sum/3\n",
    "        print(\"hi\", self.name, \"your avg is\", average)\n",
    "\n",
    "s1 = Student(\"ritika dahal\", [69,87,98])\n",
    "s1.get_average()\n",
    "s1.hello()\n"
   ]
  }
 ],
 "metadata": {
  "kernelspec": {
   "display_name": "Python 3",
   "language": "python",
   "name": "python3"
  },
  "language_info": {
   "codemirror_mode": {
    "name": "ipython",
    "version": 3
   },
   "file_extension": ".py",
   "mimetype": "text/x-python",
   "name": "python",
   "nbconvert_exporter": "python",
   "pygments_lexer": "ipython3",
   "version": "3.13.1"
  }
 },
 "nbformat": 4,
 "nbformat_minor": 2
}
