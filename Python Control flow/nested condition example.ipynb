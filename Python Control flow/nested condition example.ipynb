{
 "cells": [
  {
   "cell_type": "code",
   "execution_count": 8,
   "metadata": {},
   "outputs": [
    {
     "name": "stdout",
     "output_type": "stream",
     "text": [
      "Ticket price is $12\n"
     ]
    }
   ],
   "source": [
    "##Determine the ticket price based on age and whethe the person is student\n",
    "#Take user input\n",
    "age=int(input(\"Enter your age\"))\n",
    "is_student=input(\"Are you a student?(yes/no)\")\n",
    "if age<5:\n",
    "    price=\"free\"\n",
    "elif age<=12:\n",
    "    price=\"$10\"\n",
    "elif age<=17:\n",
    "    if is_student =='yes':\n",
    "        price=\"$12\"\n",
    "    else:\n",
    "        price=\"$20\"\n",
    "else:\n",
    "    price=\"$25\"\n",
    "print(\"Ticket price is\",price)\n",
    "\n",
    "\n",
    "\n"
   ]
  }
 ],
 "metadata": {
  "kernelspec": {
   "display_name": "Python 3",
   "language": "python",
   "name": "python3"
  },
  "language_info": {
   "codemirror_mode": {
    "name": "ipython",
    "version": 3
   },
   "file_extension": ".py",
   "mimetype": "text/x-python",
   "name": "python",
   "nbconvert_exporter": "python",
   "pygments_lexer": "ipython3",
   "version": "3.13.1"
  }
 },
 "nbformat": 4,
 "nbformat_minor": 2
}
