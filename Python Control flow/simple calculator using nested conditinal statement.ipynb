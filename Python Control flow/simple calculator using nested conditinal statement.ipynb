{
 "cells": [
  {
   "cell_type": "code",
   "execution_count": 3,
   "metadata": {},
   "outputs": [
    {
     "name": "stdout",
     "output_type": "stream",
     "text": [
      "12.0\n"
     ]
    }
   ],
   "source": [
    "#simple calculator using nested conditional statement\n",
    "num1=float(input(\"Enter the first number\"))\n",
    "num2=float(input(\"Enter the second number\"))\n",
    "operation=input(\"Enter the operation(+, -, *, /)\")\n",
    "if operation=='+':\n",
    "    result=num1+num2\n",
    "elif operation =='-':\n",
    "    result=num1-num2\n",
    "elif operation=='*':\n",
    "    result=num1 *num2\n",
    "elif operation==\"/\":\n",
    "    if num2!=0:\n",
    "        result=num1/num2\n",
    "    else:\n",
    "        result=\"Error cannot division by zero\"\n",
    "else:\n",
    "    result=\"Invalid Operation\"\n",
    "print(result)\n",
    "\n",
    "        \n",
    "\n",
    "    "
   ]
  }
 ],
 "metadata": {
  "kernelspec": {
   "display_name": "Python 3",
   "language": "python",
   "name": "python3"
  },
  "language_info": {
   "codemirror_mode": {
    "name": "ipython",
    "version": 3
   },
   "file_extension": ".py",
   "mimetype": "text/x-python",
   "name": "python",
   "nbconvert_exporter": "python",
   "pygments_lexer": "ipython3",
   "version": "3.13.1"
  }
 },
 "nbformat": 4,
 "nbformat_minor": 2
}
