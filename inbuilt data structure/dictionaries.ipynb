{
 "cells": [
  {
   "cell_type": "code",
   "execution_count": 2,
   "metadata": {},
   "outputs": [
    {
     "name": "stdout",
     "output_type": "stream",
     "text": [
      "<class 'dict'>\n"
     ]
    }
   ],
   "source": [
    "#creating dictionaries\n",
    "empty_dict={}\n",
    "print(type(empty_dict))\n"
   ]
  },
  {
   "cell_type": "code",
   "execution_count": 3,
   "metadata": {},
   "outputs": [
    {
     "name": "stdout",
     "output_type": "stream",
     "text": [
      "{'name': 'Ritika', 'age': 20, 'grade': 'A'}\n"
     ]
    }
   ],
   "source": [
    "student={\"name\":\"Ritika\",\"age\":20,\"grade\":'A'}\n",
    "print(student)\n"
   ]
  },
  {
   "cell_type": "code",
   "execution_count": 4,
   "metadata": {},
   "outputs": [
    {
     "name": "stdout",
     "output_type": "stream",
     "text": [
      "{'name': 'Ritika', 'age': 21, 'grade': 'A'}\n",
      "Ritika\n",
      "21\n",
      "A\n",
      "Ritika\n",
      "None\n",
      "not available\n"
     ]
    }
   ],
   "source": [
    "#accessing dictionary elements\n",
    "student={\"name\":\"Ritika\",\"age\":21,\"grade\":'A'}\n",
    "print(student)\n",
    "print(student[\"name\"])\n",
    "print(student[\"age\"])\n",
    "print(student[\"grade\"])\n",
    "\n",
    "#Accessing using get() method\n",
    "print(student.get('name'))\n",
    "print(student.get('firstname'))\n",
    "print(student.get('las_name',\"not available\"))"
   ]
  },
  {
   "cell_type": "code",
   "execution_count": 5,
   "metadata": {},
   "outputs": [
    {
     "name": "stdout",
     "output_type": "stream",
     "text": [
      "{'name': 'Ritika', 'age': 21, 'grade': 'A'}\n",
      "{'name': 'Ritika', 'age': 21, 'grade': 'A', 'address': 'Bagbazar'}\n",
      "{'name': 'Ritika', 'age': 21, 'address': 'Bagbazar'}\n"
     ]
    }
   ],
   "source": [
    "##Modifying dictionary elements\n",
    "#dictionary are mutable you can add update or delete elements\n",
    "print(student)\n",
    "student[\"age\"]=21 #updated value\n",
    "student[\"address\"]=\"Bagbazar\" # added new key and value\n",
    "print(student)\n",
    "del student['grade'] # delete key and value\n",
    "print(student)"
   ]
  },
  {
   "cell_type": "code",
   "execution_count": 6,
   "metadata": {},
   "outputs": [
    {
     "name": "stdout",
     "output_type": "stream",
     "text": [
      "dict_keys(['name', 'age', 'address'])\n",
      "dict_values(['Ritika', 21, 'Bagbazar'])\n",
      "dict_items([('name', 'Ritika'), ('age', 21), ('address', 'Bagbazar')])\n"
     ]
    }
   ],
   "source": [
    "# Dictionary methods\n",
    "keys=student.keys() # get all keys\n",
    "print(keys)\n",
    "values=student.values() # get all values\n",
    "print(values)\n",
    "items=student.items() # get all key value pairs\n",
    "print(items)"
   ]
  },
  {
   "cell_type": "code",
   "execution_count": 7,
   "metadata": {},
   "outputs": [
    {
     "name": "stdout",
     "output_type": "stream",
     "text": [
      "{'name': 'Ritika', 'age': 21, 'address': 'Bagbazar'}\n",
      "{'name': 'Ritika', 'age': 21, 'address': 'Bagbazar'}\n"
     ]
    }
   ],
   "source": [
    "#shallow copy\n",
    "student_copy=student\n",
    "print(student)\n",
    "print(student_copy)"
   ]
  },
  {
   "cell_type": "code",
   "execution_count": 8,
   "metadata": {},
   "outputs": [
    {
     "name": "stdout",
     "output_type": "stream",
     "text": [
      "{'name': 'riti', 'age': 21, 'address': 'Bagbazar'}\n",
      "{'name': 'riti', 'age': 21, 'address': 'Bagbazar'}\n"
     ]
    }
   ],
   "source": [
    "student[\"name\"]=\"riti\"\n",
    "print(student)\n",
    "print(student_copy)"
   ]
  },
  {
   "cell_type": "code",
   "execution_count": 9,
   "metadata": {},
   "outputs": [
    {
     "name": "stdout",
     "output_type": "stream",
     "text": [
      "{'name': 'riti', 'age': 21, 'address': 'Bagbazar'}\n",
      "{'name': 'riti', 'age': 21, 'address': 'Bagbazar'}\n"
     ]
    }
   ],
   "source": [
    "student_copy1=student.copy()\n",
    "print(student)\n",
    "print(student_copy1)"
   ]
  },
  {
   "cell_type": "code",
   "execution_count": 10,
   "metadata": {},
   "outputs": [
    {
     "name": "stdout",
     "output_type": "stream",
     "text": [
      "{'name': 'riti', 'age': 21, 'address': 'Bagbazar'}\n",
      "{'name': 'rasmika', 'age': 21, 'address': 'Bagbazar'}\n"
     ]
    }
   ],
   "source": [
    "student[\"name\"]=\"rasmika\"\n",
    "print(student_copy1)\n",
    "print(student)"
   ]
  },
  {
   "cell_type": "code",
   "execution_count": 13,
   "metadata": {},
   "outputs": [
    {
     "name": "stdout",
     "output_type": "stream",
     "text": [
      "name\n",
      "age\n",
      "address\n",
      "rasmika\n",
      "21\n",
      "Bagbazar\n"
     ]
    }
   ],
   "source": [
    "##Iterating over Dictionaries\n",
    "#you can use loops to iterate over dictionaries,keys,value or item\n",
    "#iterative over keys\n",
    "for keys in student.keys():\n",
    "    print(keys)\n",
    "#iterate over values\n",
    "for values in student.values():\n",
    "    print(values)"
   ]
  },
  {
   "cell_type": "code",
   "execution_count": 14,
   "metadata": {},
   "outputs": [
    {
     "name": "stdout",
     "output_type": "stream",
     "text": [
      "('name', 'rasmika')\n",
      "('age', 21)\n",
      "('address', 'Bagbazar')\n"
     ]
    }
   ],
   "source": [
    "for items in student.items():\n",
    "    print(items)"
   ]
  },
  {
   "cell_type": "code",
   "execution_count": null,
   "metadata": {},
   "outputs": [
    {
     "name": "stdout",
     "output_type": "stream",
     "text": [
      "{'student1': {'name': 'ritika', 'age': 21, 'study': 'bachelor'}, 'student2': {'name': 'Rasmika', 'age': 15, 'study': 'class 2'}}\n"
     ]
    }
   ],
   "source": [
    "#Nested Dictionaries\n",
    "students={\n",
    "    \"student1\":{\"name\":\"ritika\",\"age\":21,\"study\":\"bachelor\"},\n",
    "    \"student2\":{\"name\":\"Rasmika\",\"age\":15,\"study\":\"class 2\"}\n",
    "}\n",
    "print(students)"
   ]
  },
  {
   "cell_type": "code",
   "execution_count": 17,
   "metadata": {},
   "outputs": [
    {
     "name": "stdout",
     "output_type": "stream",
     "text": [
      "Rasmika\n"
     ]
    }
   ],
   "source": [
    "#Access nested dictionaries elements\n",
    "print(students[\"student2\"]['name'])"
   ]
  },
  {
   "cell_type": "code",
   "execution_count": 18,
   "metadata": {},
   "outputs": [
    {
     "name": "stdout",
     "output_type": "stream",
     "text": [
      "student1:{'name': 'ritika', 'age': 21, 'study': 'bachelor'}\n",
      "name:ritika\n",
      "age:21\n",
      "study:bachelor\n",
      "student2:{'name': 'Rasmika', 'age': 15, 'study': 'class 2'}\n",
      "name:Rasmika\n",
      "age:15\n",
      "study:class 2\n"
     ]
    }
   ],
   "source": [
    "#Iterating over nested dictionary\n",
    "for student_id,student_info in students.items():\n",
    "     print(f\"{student_id}:{student_info}\")\n",
    "     for key,value in student_info.items():\n",
    "          print(f\"{key}:{value}\")\n",
    " "
   ]
  },
  {
   "cell_type": "code",
   "execution_count": 20,
   "metadata": {},
   "outputs": [
    {
     "name": "stdout",
     "output_type": "stream",
     "text": [
      "{0: 0, 1: 1, 2: 4, 3: 9, 4: 16}\n"
     ]
    }
   ],
   "source": [
    "## Dictionary Comprehension\n",
    "squares={x:x**2 for x in range(5)}\n",
    "print(squares)"
   ]
  },
  {
   "cell_type": "code",
   "execution_count": 21,
   "metadata": {},
   "outputs": [
    {
     "name": "stdout",
     "output_type": "stream",
     "text": [
      "{0: 0, 2: 4, 4: 16, 6: 36, 8: 64}\n"
     ]
    }
   ],
   "source": [
    "#CONDITIONAL dictionary comprehension\n",
    "evens={x:x**2 for x in range(10) if x%2==0}\n",
    "print(evens)\n"
   ]
  },
  {
   "cell_type": "code",
   "execution_count": 22,
   "metadata": {},
   "outputs": [
    {
     "name": "stdout",
     "output_type": "stream",
     "text": [
      "{1: 2, 2: 1, 3: 1, 4: 2, 5: 1, 6: 2, 7: 1, 8: 1, 9: 2}\n"
     ]
    }
   ],
   "source": [
    "##practical examples\n",
    "#use a dictionary to count the frequency of elements in list\n",
    "numbers=[1,2,3,4,4,5,6,6,7,8,9,9,1]\n",
    "frequency={}\n",
    "for number in numbers:\n",
    "    if number in frequency:\n",
    "        frequency[number]+=1\n",
    "    else:\n",
    "        frequency[number]=1\n",
    "print(frequency)"
   ]
  },
  {
   "cell_type": "code",
   "execution_count": 23,
   "metadata": {},
   "outputs": [
    {
     "name": "stdout",
     "output_type": "stream",
     "text": [
      "{'a': 1, 'b': 3, 'c': 4}\n"
     ]
    }
   ],
   "source": [
    "#merge 2 dictionary\n",
    "dict1={\"a\":1,\"b\":2}\n",
    "dict2={\"b\":3,\"c\":4}\n",
    "merge_dict={**dict1,**dict2}\n",
    "print(merge_dict)\n"
   ]
  }
 ],
 "metadata": {
  "kernelspec": {
   "display_name": "Python 3",
   "language": "python",
   "name": "python3"
  },
  "language_info": {
   "codemirror_mode": {
    "name": "ipython",
    "version": 3
   },
   "file_extension": ".py",
   "mimetype": "text/x-python",
   "name": "python",
   "nbconvert_exporter": "python",
   "pygments_lexer": "ipython3",
   "version": "3.13.1"
  }
 },
 "nbformat": 4,
 "nbformat_minor": 2
}
