{
 "cells": [
  {
   "cell_type": "markdown",
   "metadata": {},
   "source": [
    "Manage a TO DO list"
   ]
  },
  {
   "cell_type": "code",
   "execution_count": null,
   "metadata": {},
   "outputs": [
    {
     "name": "stdout",
     "output_type": "stream",
     "text": [
      "Don't forget to pay the bills\n",
      "To Do list remaining\n",
      "-Buy Groceries\n",
      "-pay bills\n",
      "-do assignment\n",
      "-exercise\n"
     ]
    }
   ],
   "source": [
    "#create a TO DO list to keep track of tasks\n",
    "to_do_list=[\"Buy Groceries\",\"clean the house\",\"pay bills\"]\n",
    "#Adding to task\n",
    "to_do_list.append(\"do assignment\")\n",
    "to_do_list.append(\"exercise\")\n",
    "#Removing a completed task\n",
    "to_do_list.remove(\"clean the house\")\n",
    "#checking if a task is in the list\n",
    "if \"pay bills\" in to_do_list:\n",
    "    print(\"Don't forget to pay the bills\")\n",
    "print(\"To Do list remaining\")\n",
    "for task in to_do_list:\n",
    "    print(f\"-{task}\")"
   ]
  },
  {
   "cell_type": "markdown",
   "metadata": {},
   "source": [
    "Organizing student grades"
   ]
  },
  {
   "cell_type": "code",
   "execution_count": 7,
   "metadata": {},
   "outputs": [
    {
     "name": "stdout",
     "output_type": "stream",
     "text": [
      "Average grades:68.333\n",
      "highest grade:90\n",
      "Lowest grade :43\n"
     ]
    }
   ],
   "source": [
    "#organizing student grades\n",
    "grades=[87,90,43,56,67]\n",
    "#adding new grades\n",
    "grades.append(67)\n",
    "#calculating the average grades\n",
    "average_grade= sum(grades)/len(grades)\n",
    "print(f\"Average grades:{average_grade:.3f}\")\n",
    "#finding the highest and lowest grades\n",
    "highest_grade=max(grades)\n",
    "lowest_grade=min(grades)\n",
    "print(f\"highest grade:{highest_grade}\")\n",
    "print(f\"Lowest grade :{lowest_grade}\")\n"
   ]
  },
  {
   "cell_type": "markdown",
   "metadata": {},
   "source": [
    "Managing an inventory"
   ]
  },
  {
   "cell_type": "code",
   "execution_count": 9,
   "metadata": {},
   "outputs": [
    {
     "name": "stdout",
     "output_type": "stream",
     "text": [
      "oranges are in stock\n",
      "inventory List:\n",
      "-apples\n",
      "-oranges\n",
      "-grapes\n",
      "-strawberries\n"
     ]
    }
   ],
   "source": [
    "#use a list to manage inventory items in a store\n",
    "inventory = [\"apples\",\"bananas\",\"oranges\",\"grapes\"]\n",
    "#adding a new inventory\n",
    "inventory.append(\"strawberries\")\n",
    "#removing an item that is out of stock\n",
    "inventory.remove(\"bananas\")\n",
    "#checking if an item is in stock\n",
    "item=\"oranges\"\n",
    "if item in inventory:\n",
    "    print(f\"{item} are in stock\")\n",
    "else:\n",
    "    print(f\"{item} are out of stock\")\n",
    "\n",
    "#printing the inventory\n",
    "print(\"inventory List:\")\n",
    "for item in inventory:\n",
    "    print(f\"-{item}\")\n"
   ]
  }
 ],
 "metadata": {
  "kernelspec": {
   "display_name": "Python 3",
   "language": "python",
   "name": "python3"
  },
  "language_info": {
   "codemirror_mode": {
    "name": "ipython",
    "version": 3
   },
   "file_extension": ".py",
   "mimetype": "text/x-python",
   "name": "python",
   "nbconvert_exporter": "python",
   "pygments_lexer": "ipython3",
   "version": "3.13.1"
  }
 },
 "nbformat": 4,
 "nbformat_minor": 2
}
