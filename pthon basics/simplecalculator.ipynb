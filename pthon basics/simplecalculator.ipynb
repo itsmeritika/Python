{
 "cells": [
  {
   "cell_type": "code",
   "execution_count": 3,
   "metadata": {},
   "outputs": [
    {
     "name": "stdout",
     "output_type": "stream",
     "text": [
      "sum: 24.0\n",
      "Difference: 0.0\n",
      "Product: 144.0\n",
      "Quotient: 1.0\n",
      "Remainder: 0.0\n",
      "exponentiation: 8916100448256.0\n"
     ]
    }
   ],
   "source": [
    "#simple calculator using python\n",
    "num1=float(input(\"Enter the first number?\"))\n",
    "num2=float(input(\"Enter the second number?\"))\n",
    "\n",
    "sum=num1+num2\n",
    "subtract=num1 - num2\n",
    "product=num1*num2\n",
    "quotient=num1/num2\n",
    "remainder=num1%num2\n",
    "exponentiation=num1 ** num2\n",
    "\n",
    "print(\"sum:\", sum)\n",
    "print(\"Difference:\",subtract)\n",
    "print(\"Product:\", product)\n",
    "print(\"Quotient:\",quotient)\n",
    "print(\"Remainder:\",remainder)\n",
    "print(\"exponentiation:\", exponentiation)"
   ]
  }
 ],
 "metadata": {
  "kernelspec": {
   "display_name": "base",
   "language": "python",
   "name": "python3"
  },
  "language_info": {
   "codemirror_mode": {
    "name": "ipython",
    "version": 3
   },
   "file_extension": ".py",
   "mimetype": "text/x-python",
   "name": "python",
   "nbconvert_exporter": "python",
   "pygments_lexer": "ipython3",
   "version": "3.12.4"
  }
 },
 "nbformat": 4,
 "nbformat_minor": 2
}
